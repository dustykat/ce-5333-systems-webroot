{
 "cells": [
  {
   "cell_type": "code",
   "execution_count": 11,
   "metadata": {},
   "outputs": [],
   "source": [
    "def sse(matrix1,matrix2):\n",
    "    sse=0.0\n",
    "    nr=len(matrix1) # get row count\n",
    "    nc=len(matrix1[0]) # get column count\n",
    "    for ir in range(nr):\n",
    "        for jc in range(nc):\n",
    "            sse=sse+(matrix1[ir][jc]-matrix2[ir][jc])**2\n",
    "    return(sse)\n",
    "\n",
    "def update(matrix1,matrix2):\n",
    "    nr=len(matrix1) # get row count\n",
    "    nc=len(matrix1[0]) # get column count\n",
    "    for ir in range(nr):\n",
    "        for jc in range(nc):\n",
    "            matrix2[ir][jc]=matrix1[ir][jc]\n",
    "    return(matrix2)\n",
    "\n",
    "def writearray(matrix):\n",
    "    nr=len(matrix) # get row count\n",
    "    nc=len(matrix[0]) # get column count\n",
    "    import numpy as np\n",
    "    new_list = list(np.around(np.array(matrix), 1))    \n",
    "    for ir in range(nr):\n",
    "        print(ir,new_list[ir][:])\n",
    "    return()"
   ]
  },
  {
   "cell_type": "code",
   "execution_count": 12,
   "metadata": {},
   "outputs": [
    {
     "name": "stdout",
     "output_type": "stream",
     "text": [
      "[[1.0, 0.0, 0.0, 0.0, 0.0, 0.0, 0.0], [1.0, 0.0, 0.0, 0.0, 0.0, 0.0, 0.0], [1.0, 1.0, 1.0, 1.0, 1.0, 1.0, 1.0], [0.0, 0.0, 0.0, 0.0, 0.0, 0.0, 0.0], [0.0, 2.795639, 7.1792, 10.46687, 12.65865, 13.75454, 13.75454], [0.0, 2.795639, 7.1792, 10.46687, 12.65865, 13.75454, 13.75454], [0.0, 2.795639, 7.1792, 10.46687, 12.65865, 13.75454, 13.75454]]\n"
     ]
    }
   ],
   "source": [
    "localfile = open(\"base-case.txt\",\"r\") # connect and read file for 2D gw model\n",
    "deltax = float(localfile.readline())\n",
    "deltay = float(localfile.readline())\n",
    "deltaz = float(localfile.readline())\n",
    "nrows = int(localfile.readline())\n",
    "ncols = int(localfile.readline())\n",
    "tolerance = float(localfile.readline())\n",
    "maxiter = int(localfile.readline())\n",
    "distancex = [] # empty list\n",
    "distancex.append([float(n) for n in localfile.readline().strip().split()])\n",
    "distancey = [] # empty list\n",
    "distancey.append([float(n) for n in localfile.readline().strip().split()])\n",
    "head =[] # empty list\n",
    "for irow in range(nrows):\n",
    "        head.append([float(n) for n in localfile.readline().strip().split()])\n",
    "hydcondx = [] # empty list\n",
    "for irow in range(nrows):\n",
    "        hydcondx.append([float(n) for n in localfile.readline().strip().split()])\n",
    "hydcondy = [] # empty list\n",
    "for irow in range(nrows):\n",
    "        hydcondy.append([float(n) for n in localfile.readline().strip().split()])\n",
    "localfile.close() # Disconnect the file"
   ]
  },
  {
   "cell_type": "code",
   "execution_count": null,
   "metadata": {},
   "outputs": [],
   "source": [
    "# Check inputs\n",
    "head"
   ]
  },
  {
   "cell_type": "code",
   "execution_count": 10,
   "metadata": {},
   "outputs": [],
   "source": [
    "##\n",
    "amat = [[0 for j in range(ncols)] for i in range(nrows)]\n",
    "bmat = [[0 for j in range(ncols)] for i in range(nrows)]\n",
    "cmat = [[0 for j in range(ncols)] for i in range(nrows)]\n",
    "dmat = [[0 for j in range(ncols)] for i in range(nrows)]\n",
    "##\n",
    "for irow in range(1,nrows-1):\n",
    "    for jcol in range(1,ncols-1):\n",
    "        amat[irow][jcol] = (( hydcondx[irow-1][jcol  ]+ hydcondx[irow  ][jcol  ]) * deltaz ) /(2.0*deltax**2)\n",
    "        bmat[irow][jcol] = (( hydcondx[irow  ][jcol  ]+ hydcondx[irow+1][jcol  ]) * deltaz ) /(2.0*deltax**2)\n",
    "        cmat[irow][jcol] = (( hydcondy[irow  ][jcol-1]+ hydcondy[irow  ][jcol  ]) * deltaz ) /(2.0*deltay**2)\n",
    "        dmat[irow][jcol] = (( hydcondy[irow  ][jcol  ]+ hydcondy[irow  ][jcol+1]) * deltaz ) /(2.0*deltay**2)\n",
    "##\n",
    "headold = [[0 for jc in range(ncols)] for ir in range(nrows)] #force new matrix\n",
    "headold = update(head,headold) # update\n",
    "##writearray(head)\n",
    "##print(\"----\")\n",
    "##writearray(headold)\n",
    "##print(\"--------\")\n",
    "tolflag = False\n",
    "for iter in range(maxiter):\n",
    "##    print(\"begin iteration\")\n",
    "##    writearray(head)\n",
    "##    print(\"----\")\n",
    "##    writearray(headold)\n",
    "##    print(\"--------\")\n",
    "# first and last row special == no flow boundaries\n",
    "    for jcol in range(ncols):\n",
    "        head [0    ][jcol ] = head[1][jcol ]\n",
    "        head [nrows-1][jcol ] = head[nrows-2][jcol ]\n",
    "# interior updates\n",
    "    for irow in range(1,nrows-1):\n",
    "        for jcol in range(1,ncols-1):\n",
    "            head[irow][jcol]=( amat[irow][jcol]*head[irow-1][jcol  ] \n",
    "                              +bmat[irow][jcol]*head[irow+1][jcol  ] \n",
    "                              +cmat[irow][jcol]*head[irow  ][jcol-1] \n",
    "                              +dmat[irow][jcol]*head[irow  ][jcol+1])/(amat[ irow][jcol ]+ bmat[ irow][jcol ]+ cmat[ irow][jcol ]+ dmat[ irow][jcol ])\n",
    "# test for stopping iterations\n",
    "##    print(\"end iteration\")\n",
    "##    writearray(head)\n",
    "##    print(\"----\")\n",
    "##    writearray(headold)\n",
    "    percentdiff = sse(head,headold)\n",
    "    if  percentdiff <= tolerance:\n",
    "        print(\"Exit iterations in Head Solution because tolerance met \")\n",
    "        print(\"Iterations =\" , iter+1 ) ;\n",
    "        tolflag = True\n",
    "        break\n",
    "    headold = update(head,headold)\n",
    "print(\"End Calculations\")\n",
    "print(\"Iterations    = \",iter+1)\n",
    "print(\"Closure Error = \",round(percentdiff,3))\n",
    "print(\"Head Map\")\n",
    "print(\"----\")\n",
    "writearray(head)\n",
    "print(\"----\")\n",
    "\n",
    "print(\"End Simulation\")"
   ]
  },
  {
   "cell_type": "code",
   "execution_count": 10,
   "metadata": {},
   "outputs": [],
   "source": []
  },
  {
   "cell_type": "code",
   "execution_count": 10,
   "metadata": {},
   "outputs": [
    {
     "name": "stdout",
     "output_type": "stream",
     "text": [
      "[[1.0, 0.0, 0.0, 0.0, 0.0, 0.0, 0.0], [1.0, 0.0, 0.0, 0.0, 0.0, 0.0, 0.0], [1.0, 1.0, 1.0, 1.0, 1.0, 1.0, 1.0], [0.0, 0.0, 0.0, 0.0, 0.0, 0.0, 0.0], [0.0, 2.795639, 7.1792, 10.46687, 12.65865, 13.75454, 13.75454], [0.0, 2.795639, 7.1792, 10.46687, 12.65865, 13.75454, 13.75454], [0.0, 2.795639, 7.1792, 10.46687, 12.65865, 13.75454, 13.75454]]\n",
      "Exit iterations in Head Solution because tolerance met \n",
      "Iterations = 88\n",
      "End Calculations\n",
      "Iterations    =  88\n",
      "Closure Error =  0.0\n",
      "Head Map\n",
      "----\n",
      "0 [1.  0.9 0.7 0.6 0.4 0.2 0. ]\n",
      "1 [1.  0.9 0.7 0.6 0.4 0.2 0. ]\n",
      "2 [1.  1.  1.  1.1 1.1 1.  1. ]\n",
      "3 [0.  0.7 2.1 3.3 4.  3.4 0. ]\n",
      "4 [ 0.   0.9  2.6  4.4  6.4  9.1 13.8]\n",
      "5 [ 0.   0.9  2.7  4.7  7.  10.  13.8]\n",
      "6 [ 0.   0.9  2.7  4.7  7.  10.  13.8]\n",
      "----\n",
      "End Simulation\n"
     ]
    }
   ],
   "source": []
  },
  {
   "cell_type": "code",
   "execution_count": 9,
   "metadata": {},
   "outputs": [
    {
     "data": {
      "text/plain": [
       "[[0.0, 2.795639, 7.1792, 10.46687, 12.65865, 13.75454, 13.75454],\n",
       " [0.0, 2.795639, 7.1792, 10.46687, 12.65865, 13.75454, 13.75454],\n",
       " [0.0, 2.795639, 7.1792, 10.46687, 12.65865, 13.75454, 13.75454],\n",
       " [0.0, 2.795639, 7.1792, 10.46687, 12.65865, 13.75454, 13.75454],\n",
       " [2920.0, 1000.0, 1000.0, 1000.0, 1000.0, 1000.0, 1000.0],\n",
       " [2920.0, 1000.0, 1000.0, 1000.0, 1000.0, 1000.0, 1000.0],\n",
       " [2920.0, 1000.0, 1000.0, 1000.0, 1000.0, 1000.0, 1000.0]]"
      ]
     },
     "execution_count": 9,
     "metadata": {},
     "output_type": "execute_result"
    }
   ],
   "source": [
    "hydcondx"
   ]
  },
  {
   "cell_type": "code",
   "execution_count": null,
   "metadata": {},
   "outputs": [],
   "source": []
  }
 ],
 "metadata": {
  "kernelspec": {
   "display_name": "Python 3",
   "language": "python",
   "name": "python3"
  },
  "language_info": {
   "codemirror_mode": {
    "name": "ipython",
    "version": 3
   },
   "file_extension": ".py",
   "mimetype": "text/x-python",
   "name": "python",
   "nbconvert_exporter": "python",
   "pygments_lexer": "ipython3",
   "version": "3.8.10"
  }
 },
 "nbformat": 4,
 "nbformat_minor": 4
}
