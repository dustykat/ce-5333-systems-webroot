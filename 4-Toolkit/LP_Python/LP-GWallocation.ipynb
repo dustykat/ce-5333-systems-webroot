{
 "cells": [
  {
   "cell_type": "markdown",
   "metadata": {},
   "source": [
    "# Linear Programmin' using Python Tools\n",
    "\n",
    "- Mirko Stojiljković (2020). Hands-On Linear Programming: Optimization With Python [https://realpython.com/linear-programming-python/](https://realpython.com/linear-programming-python/)"
   ]
  },
  {
   "cell_type": "code",
   "execution_count": 311,
   "metadata": {},
   "outputs": [],
   "source": [
    "import math\n",
    "verbose = False #Set to True for lots-o-output\n",
    "# build the cost model\n",
    "# build the cost coefficient vector\n",
    "xdist = [1,3,5,7,9] # position of grid centers in horozontal direction\n",
    "ydist = [1,3,5,7,9] # position of grid centers in vertical direction\n",
    "x0 = 5 # cell center Cell 18 - horizontal\n",
    "y0 = 3 # cell center Cell 18 - vertical\n",
    "cost = [] # empty list to store the cost coefficients\n",
    "# cell location map\n",
    "cellloc = [[1,5],[2,5],[3,5],[4,5],[5,5],\\\n",
    "           [1,4],[2,4],[3,4],[4,4],[5,4],\\\n",
    "           [1,3],[2,3],[3,3],[4,3],[5,3],\\\n",
    "           [1,2],[2,2],[3,2],[4,2],[5,2],\\\n",
    "           [1,1],[2,1],[3,1],[4,1],[5,1] ]\n",
    "for icell in range(25):\n",
    "    part1 = xdist[cellloc[icell][0] - 1]-x0\n",
    "    part2 = ydist[cellloc[icell][1] - 1]-y0\n",
    "    distance = math.sqrt((part1)**2 + (part2)**2)\n",
    "    cost.append( 1.0 + 0.5 * distance)\n",
    "\n",
    "# cost now contains cost coefficients for the LP, decisions are the pump rates, this will be passed to the objective function"
   ]
  },
  {
   "cell_type": "code",
   "execution_count": 312,
   "metadata": {},
   "outputs": [],
   "source": [
    "# Read the influence table\n",
    "infile='influence-table.out'\n",
    "localfile=open(infile,\"r\")\n",
    "tableau = [] # 25 rows in the influence matrix, goes to top of the LP structure\n",
    "for ir in range(16):\n",
    "    tableau.append([-1*float(n) for n in localfile.readline().strip().split()])\n",
    "for ir in range(16,25):\n",
    "    tableau.append([float(n) for n in localfile.readline().strip().split()])\n",
    "demand = [1.0 for jc in range(25)] # a row of ones!\n",
    "tableau.append(demand)\n",
    "# force zeros pumping in cells 21-25\n",
    "row27 = [0.0 for jc in range(25)]\n",
    "row28 = [0.0 for jc in range(25)]\n",
    "row29 = [0.0 for jc in range(25)]\n",
    "row30 = [0.0 for jc in range(25)]\n",
    "row31 = [0.0 for jc in range(25)]\n",
    "row27[20]=1.0\n",
    "row28[21]=1.0\n",
    "row29[22]=1.0\n",
    "row30[23]=1.0\n",
    "row31[24]=1.0\n",
    "# append these to the tableau\n",
    "tableau.append(row27)\n",
    "tableau.append(row28)\n",
    "tableau.append(row29)\n",
    "tableau.append(row30)\n",
    "tableau.append(row31)\n",
    "# print the tableau\n",
    "if verbose:\n",
    "    for i in range(len(tableau)):\n",
    "        print(tableau[i][:])\n",
    "# the tableau contains the LP constraint matrix, now build the corresponding RHS"
   ]
  },
  {
   "cell_type": "code",
   "execution_count": 313,
   "metadata": {},
   "outputs": [],
   "source": [
    "# Build the constraint RHS vector (SciPy uses less-than for inequality)\n",
    "# drawdown constraints\n",
    "# demand constraints\n",
    "# non-negative constraints\n",
    "\n",
    "rhs_ineq = [0.00,0.00,0.00,0.00,0.00,0.00,0.00,0.00,0.00,0.00,0.00,0.00,0.00,0.00,0.00,6.22,6.22,6.22,6.22,6.22,2.15,2.15,2.15,2.15,2.15] # drawdown constraints\n",
    "#rhs_ineq.append(-7.00) # minimum demand constraint (because uses <=) change sense and sign\n",
    "rhs_eq = [7.00,0.00,0.00,0.00,0.00,0.00] # force zero cells 21-25\n",
    "\n",
    "# now list slice to populate rest\n",
    "\n",
    "lhs_ineq = tableau[0:25][:] # part of tableau for drawdown and demand\n",
    "lhs_eq = tableau[25:31][:] # part of tableau for forced zeros\n",
    "verbose=False\n",
    "# print the tableau\n",
    "if verbose:\n",
    "    print('Inequality RHS')\n",
    "    for i in range(len(lhs_ineq)):\n",
    "        print(lhs_ineq[i][:])\n",
    "    print('Equality RHS')\n",
    "    for i in range(len(lhs_eq)):\n",
    "        print(lhs_eq[i][:])\n",
    "# the pieces are in SciPy structure, now complete the LP\n",
    "from scipy.optimize import linprog # load the package"
   ]
  },
  {
   "cell_type": "code",
   "execution_count": 314,
   "metadata": {},
   "outputs": [],
   "source": [
    "myoptions=dict({\"maxiter\":1000,\"tol\": 1e-9,\"autoscale\":False})\n",
    "#myoptions"
   ]
  },
  {
   "cell_type": "code",
   "execution_count": 315,
   "metadata": {},
   "outputs": [],
   "source": [
    "bnd = [(0, float(\"inf\")) for i in range(25)] # set bounds 0-infnty"
   ]
  },
  {
   "cell_type": "code",
   "execution_count": 316,
   "metadata": {},
   "outputs": [],
   "source": [
    "opt = linprog(c=cost, A_ub=lhs_ineq, b_ub=rhs_ineq,\n",
    "...               A_eq=lhs_eq, b_eq=rhs_eq, bounds=bnd,\n",
    "...               method=\"interior-point\",options=myoptions)"
   ]
  },
  {
   "cell_type": "code",
   "execution_count": 317,
   "metadata": {},
   "outputs": [
    {
     "data": {
      "text/plain": [
       "     con: array([-6.04849504e-12,  0.00000000e+00,  0.00000000e+00,  0.00000000e+00,\n",
       "        0.00000000e+00,  0.00000000e+00])\n",
       "     fun: 13.728730294265585\n",
       " message: 'Optimization terminated successfully.'\n",
       "     nit: 9\n",
       "   slack: array([ 5.81993176e+00,  5.83480665e+00,  5.82281159e+00,  5.77337363e+00,\n",
       "        5.71189437e+00,  5.80505687e+00,  5.86167661e+00,  5.86025449e+00,\n",
       "        5.78541492e+00,  5.65041511e+00,  5.73356224e+00,  5.94658842e+00,\n",
       "        5.97111484e+00,  5.85761645e+00,  5.45393604e+00,  1.16690414e+01,\n",
       "       -1.09103837e-11, -1.05400133e-11, -8.62154792e-12,  1.36622343e+00,\n",
       "        2.55134890e-01,  9.53755983e-02,  7.39280779e-02,  1.27307668e-01,\n",
       "        4.13517955e-01])\n",
       "  status: 0\n",
       " success: True\n",
       "       x: array([5.03388415e-13, 5.82334036e-13, 5.90060621e-13, 5.28373055e-13,\n",
       "       4.43867951e-13, 7.57559341e-13, 9.95255910e-13, 6.77334125e-14,\n",
       "       5.18066124e-14, 5.72105940e-13, 1.40109854e-12, 3.15116708e-12,\n",
       "       7.91458700e-12, 2.06070916e-12, 4.39198615e-13, 9.12024387e-01,\n",
       "       1.90155720e+00, 1.60337683e+00, 2.16295885e+00, 4.20082739e-01,\n",
       "       0.00000000e+00, 0.00000000e+00, 0.00000000e+00, 0.00000000e+00,\n",
       "       0.00000000e+00])"
      ]
     },
     "execution_count": 317,
     "metadata": {},
     "output_type": "execute_result"
    }
   ],
   "source": [
    "opt"
   ]
  },
  {
   "cell_type": "code",
   "execution_count": 318,
   "metadata": {},
   "outputs": [
    {
     "name": "stdout",
     "output_type": "stream",
     "text": [
      "Optimal Solution Found\n",
      "Cost :  13.73\n",
      "Pumpage Cell 1  =  0.0\n",
      "Pumpage Cell 2  =  0.0\n",
      "Pumpage Cell 3  =  0.0\n",
      "Pumpage Cell 4  =  0.0\n",
      "Pumpage Cell 5  =  0.0\n",
      "Pumpage Cell 6  =  0.0\n",
      "Pumpage Cell 7  =  0.0\n",
      "Pumpage Cell 8  =  0.0\n",
      "Pumpage Cell 9  =  0.0\n",
      "Pumpage Cell 10  =  0.0\n",
      "Pumpage Cell 11  =  0.0\n",
      "Pumpage Cell 12  =  0.0\n",
      "Pumpage Cell 13  =  0.0\n",
      "Pumpage Cell 14  =  0.0\n",
      "Pumpage Cell 15  =  0.0\n",
      "Pumpage Cell 16  =  0.912\n",
      "Pumpage Cell 17  =  1.902\n",
      "Pumpage Cell 18  =  1.603\n",
      "Pumpage Cell 19  =  2.163\n",
      "Pumpage Cell 20  =  0.42\n",
      "Pumpage Cell 21  =  0.0\n",
      "Pumpage Cell 22  =  0.0\n",
      "Pumpage Cell 23  =  0.0\n",
      "Pumpage Cell 24  =  0.0\n",
      "Pumpage Cell 25  =  0.0\n",
      "Total Pumpage : 7.0\n"
     ]
    }
   ],
   "source": [
    "# check for solution\n",
    "if opt.status == 0:\n",
    "    print('Optimal Solution Found')\n",
    "    print('Cost : ',round(opt.fun,2))\n",
    "    sum = 0.0\n",
    "    for i in range(25):\n",
    "        print('Pumpage Cell',i+1,' = ',round(opt.x[i],3))\n",
    "        sum=sum+opt.x[i]\n",
    "    print('Total Pumpage :',round(sum,3))"
   ]
  },
  {
   "cell_type": "code",
   "execution_count": 320,
   "metadata": {},
   "outputs": [
    {
     "name": "stdout",
     "output_type": "stream",
     "text": [
      "-400000.0\n",
      "-400000.0\n",
      "-400000.0\n",
      "-400000.0\n",
      "-400000.0\n",
      "-400000.0\n",
      "-400000.0\n",
      "-400000.0\n",
      "-400000.0\n",
      "-400000.0\n",
      "-400000.0\n",
      "-400000.0\n",
      "-400000.0\n",
      "-400000.0\n",
      "-400000.0\n",
      "512024.387\n",
      "1501557.195\n",
      "1203376.832\n",
      "1762958.847\n",
      "20082.739\n",
      "-400000.0\n",
      "-400000.0\n",
      "-400000.0\n",
      "-400000.0\n",
      "-400000.0\n"
     ]
    },
    {
     "data": {
      "text/plain": [
       "400000.0"
      ]
     },
     "execution_count": 320,
     "metadata": {},
     "output_type": "execute_result"
    }
   ],
   "source": [
    "# convert solution into input file fragment for a simulation run\n",
    "recharge = 0.1 #m/yr\n",
    "pumpage = 1.0e6 #Mm^3/yr\n",
    "dxdy = 2000*2000\n",
    "Rin = dxdy*recharge\n",
    "\n",
    "for i in range(25):\n",
    "        print(round(opt.x[i]*1e6-Rin,3))\n",
    "Rin"
   ]
  },
  {
   "cell_type": "code",
   "execution_count": 284,
   "metadata": {},
   "outputs": [
    {
     "data": {
      "text/plain": [
       "-399999.99999975"
      ]
     },
     "execution_count": 284,
     "metadata": {},
     "output_type": "execute_result"
    }
   ],
   "source": [
    "(1.0)/dxdy-Rin"
   ]
  },
  {
   "cell_type": "code",
   "execution_count": 90,
   "metadata": {},
   "outputs": [
    {
     "data": {
      "text/plain": [
       "[(0, inf),\n",
       " (0, inf),\n",
       " (0, inf),\n",
       " (0, inf),\n",
       " (0, inf),\n",
       " (0, inf),\n",
       " (0, inf),\n",
       " (0, inf),\n",
       " (0, inf),\n",
       " (0, inf),\n",
       " (0, inf),\n",
       " (0, inf),\n",
       " (0, inf),\n",
       " (0, inf),\n",
       " (0, inf),\n",
       " (0, inf),\n",
       " (0, inf),\n",
       " (0, inf),\n",
       " (0, inf),\n",
       " (0, inf),\n",
       " (0, inf),\n",
       " (0, inf),\n",
       " (0, inf),\n",
       " (0, inf),\n",
       " (0, inf)]"
      ]
     },
     "execution_count": 90,
     "metadata": {},
     "output_type": "execute_result"
    }
   ],
   "source": [
    "bnd"
   ]
  },
  {
   "cell_type": "code",
   "execution_count": 73,
   "metadata": {},
   "outputs": [],
   "source": [
    "from scipy.optimize import linprog"
   ]
  },
  {
   "cell_type": "code",
   "execution_count": 84,
   "metadata": {},
   "outputs": [],
   "source": [
    "obj = [-1, -2]\n",
    "lhs_ineq = [[ 2,  1], [-4,  5],  [ 1, -2]]  # Yellow constraint left side\n",
    "rhs_ineq = [20, 10, 2]  # Yellow constraint right side\n",
    "lhs_eq = [[-1, 5]]  # Green constraint left side\n",
    "rhs_eq = [15]       # Green constraint right side\n"
   ]
  },
  {
   "cell_type": "code",
   "execution_count": 79,
   "metadata": {},
   "outputs": [],
   "source": [
    "bnd = [(0, float(\"inf\")),(0, float(\"inf\"))]  "
   ]
  },
  {
   "cell_type": "code",
   "execution_count": 236,
   "metadata": {},
   "outputs": [
    {
     "data": {
      "text/plain": [
       "scipy.optimize.optimize.OptimizeResult"
      ]
     },
     "execution_count": 236,
     "metadata": {},
     "output_type": "execute_result"
    }
   ],
   "source": [
    "type(opt)"
   ]
  },
  {
   "cell_type": "code",
   "execution_count": null,
   "metadata": {},
   "outputs": [],
   "source": []
  },
  {
   "cell_type": "code",
   "execution_count": null,
   "metadata": {},
   "outputs": [],
   "source": []
  },
  {
   "cell_type": "code",
   "execution_count": null,
   "metadata": {},
   "outputs": [],
   "source": []
  },
  {
   "cell_type": "code",
   "execution_count": null,
   "metadata": {},
   "outputs": [],
   "source": []
  },
  {
   "cell_type": "code",
   "execution_count": 51,
   "metadata": {},
   "outputs": [],
   "source": [
    "from pulp import LpMaximize, LpProblem, LpStatus, lpSum, LpVariable"
   ]
  },
  {
   "cell_type": "code",
   "execution_count": 52,
   "metadata": {},
   "outputs": [],
   "source": [
    "# Create the model\n",
    "model = LpProblem(name=\"small-problem\", sense=LpMaximize)\n",
    "# Initialize the decision variables\n",
    "x = LpVariable(name=\"x\", lowBound=0)\n",
    "y = LpVariable(name=\"y\", lowBound=0)\n",
    "# Add the objective function to the model\n",
    "obj_func = x + 2 * y\n",
    "model += obj_func\n",
    "# Add the constraints to the model\n",
    "model += (2 * x + y <= 20, \"red_constraint\")\n",
    "model += (4 * x - 5 * y >= -10, \"blue_constraint\")\n",
    "model += (-x + 2 * y >= -2, \"yellow_constraint\")\n",
    "model += (-x + 5 * y == 15, \"green_constraint\")"
   ]
  },
  {
   "cell_type": "code",
   "execution_count": 53,
   "metadata": {},
   "outputs": [
    {
     "data": {
      "text/plain": [
       "small-problem:\n",
       "MAXIMIZE\n",
       "1*x + 2*y + 0\n",
       "SUBJECT TO\n",
       "red_constraint: 2 x + y <= 20\n",
       "\n",
       "blue_constraint: 4 x - 5 y >= -10\n",
       "\n",
       "yellow_constraint: - x + 2 y >= -2\n",
       "\n",
       "green_constraint: - x + 5 y = 15\n",
       "\n",
       "VARIABLES\n",
       "x Continuous\n",
       "y Continuous"
      ]
     },
     "execution_count": 53,
     "metadata": {},
     "output_type": "execute_result"
    }
   ],
   "source": [
    "# check model define\n",
    "model"
   ]
  },
  {
   "cell_type": "code",
   "execution_count": 54,
   "metadata": {},
   "outputs": [
    {
     "data": {
      "text/plain": [
       "[x, y]"
      ]
     },
     "execution_count": 54,
     "metadata": {},
     "output_type": "execute_result"
    }
   ],
   "source": [
    "model.variables()"
   ]
  },
  {
   "cell_type": "code",
   "execution_count": 56,
   "metadata": {},
   "outputs": [
    {
     "ename": "OSError",
     "evalue": "[Errno 8] Exec format error: '/opt/jupyterhub/lib/python3.8/site-packages/pulp/apis/../solverdir/cbc/linux/64/cbc'",
     "output_type": "error",
     "traceback": [
      "\u001b[0;31m---------------------------------------------------------------------------\u001b[0m",
      "\u001b[0;31mOSError\u001b[0m                                   Traceback (most recent call last)",
      "\u001b[0;32m<ipython-input-56-8710f032d6e5>\u001b[0m in \u001b[0;36m<module>\u001b[0;34m\u001b[0m\n\u001b[0;32m----> 1\u001b[0;31m \u001b[0mmodel\u001b[0m\u001b[0;34m.\u001b[0m\u001b[0msolve\u001b[0m\u001b[0;34m(\u001b[0m\u001b[0;34m)\u001b[0m\u001b[0;34m\u001b[0m\u001b[0;34m\u001b[0m\u001b[0m\n\u001b[0m",
      "\u001b[0;32m/opt/jupyterhub/lib/python3.8/site-packages/pulp/pulp.py\u001b[0m in \u001b[0;36msolve\u001b[0;34m(self, solver, **kwargs)\u001b[0m\n\u001b[1;32m   1735\u001b[0m         \u001b[0;31m#time it\u001b[0m\u001b[0;34m\u001b[0m\u001b[0;34m\u001b[0m\u001b[0;34m\u001b[0m\u001b[0m\n\u001b[1;32m   1736\u001b[0m         \u001b[0mself\u001b[0m\u001b[0;34m.\u001b[0m\u001b[0msolutionTime\u001b[0m \u001b[0;34m=\u001b[0m \u001b[0;34m-\u001b[0m\u001b[0mclock\u001b[0m\u001b[0;34m(\u001b[0m\u001b[0;34m)\u001b[0m\u001b[0;34m\u001b[0m\u001b[0;34m\u001b[0m\u001b[0m\n\u001b[0;32m-> 1737\u001b[0;31m         \u001b[0mstatus\u001b[0m \u001b[0;34m=\u001b[0m \u001b[0msolver\u001b[0m\u001b[0;34m.\u001b[0m\u001b[0mactualSolve\u001b[0m\u001b[0;34m(\u001b[0m\u001b[0mself\u001b[0m\u001b[0;34m,\u001b[0m \u001b[0;34m**\u001b[0m\u001b[0mkwargs\u001b[0m\u001b[0;34m)\u001b[0m\u001b[0;34m\u001b[0m\u001b[0;34m\u001b[0m\u001b[0m\n\u001b[0m\u001b[1;32m   1738\u001b[0m         \u001b[0mself\u001b[0m\u001b[0;34m.\u001b[0m\u001b[0msolutionTime\u001b[0m \u001b[0;34m+=\u001b[0m \u001b[0mclock\u001b[0m\u001b[0;34m(\u001b[0m\u001b[0;34m)\u001b[0m\u001b[0;34m\u001b[0m\u001b[0;34m\u001b[0m\u001b[0m\n\u001b[1;32m   1739\u001b[0m         \u001b[0mself\u001b[0m\u001b[0;34m.\u001b[0m\u001b[0mrestoreObjective\u001b[0m\u001b[0;34m(\u001b[0m\u001b[0mwasNone\u001b[0m\u001b[0;34m,\u001b[0m \u001b[0mdummyVar\u001b[0m\u001b[0;34m)\u001b[0m\u001b[0;34m\u001b[0m\u001b[0;34m\u001b[0m\u001b[0m\n",
      "\u001b[0;32m/opt/jupyterhub/lib/python3.8/site-packages/pulp/apis/coin_api.py\u001b[0m in \u001b[0;36mactualSolve\u001b[0;34m(self, lp, **kwargs)\u001b[0m\n\u001b[1;32m     99\u001b[0m     \u001b[0;32mdef\u001b[0m \u001b[0mactualSolve\u001b[0m\u001b[0;34m(\u001b[0m\u001b[0mself\u001b[0m\u001b[0;34m,\u001b[0m \u001b[0mlp\u001b[0m\u001b[0;34m,\u001b[0m \u001b[0;34m**\u001b[0m\u001b[0mkwargs\u001b[0m\u001b[0;34m)\u001b[0m\u001b[0;34m:\u001b[0m\u001b[0;34m\u001b[0m\u001b[0;34m\u001b[0m\u001b[0m\n\u001b[1;32m    100\u001b[0m         \u001b[0;34m\"\"\"Solve a well formulated lp problem\"\"\"\u001b[0m\u001b[0;34m\u001b[0m\u001b[0;34m\u001b[0m\u001b[0m\n\u001b[0;32m--> 101\u001b[0;31m         \u001b[0;32mreturn\u001b[0m \u001b[0mself\u001b[0m\u001b[0;34m.\u001b[0m\u001b[0msolve_CBC\u001b[0m\u001b[0;34m(\u001b[0m\u001b[0mlp\u001b[0m\u001b[0;34m,\u001b[0m \u001b[0;34m**\u001b[0m\u001b[0mkwargs\u001b[0m\u001b[0;34m)\u001b[0m\u001b[0;34m\u001b[0m\u001b[0;34m\u001b[0m\u001b[0m\n\u001b[0m\u001b[1;32m    102\u001b[0m \u001b[0;34m\u001b[0m\u001b[0m\n\u001b[1;32m    103\u001b[0m     \u001b[0;32mdef\u001b[0m \u001b[0mavailable\u001b[0m\u001b[0;34m(\u001b[0m\u001b[0mself\u001b[0m\u001b[0;34m)\u001b[0m\u001b[0;34m:\u001b[0m\u001b[0;34m\u001b[0m\u001b[0;34m\u001b[0m\u001b[0m\n",
      "\u001b[0;32m/opt/jupyterhub/lib/python3.8/site-packages/pulp/apis/coin_api.py\u001b[0m in \u001b[0;36msolve_CBC\u001b[0;34m(self, lp, use_mps)\u001b[0m\n\u001b[1;32m    150\u001b[0m         \u001b[0margs\u001b[0m\u001b[0;34m.\u001b[0m\u001b[0mappend\u001b[0m\u001b[0;34m(\u001b[0m\u001b[0mself\u001b[0m\u001b[0;34m.\u001b[0m\u001b[0mpath\u001b[0m\u001b[0;34m)\u001b[0m\u001b[0;34m\u001b[0m\u001b[0;34m\u001b[0m\u001b[0m\n\u001b[1;32m    151\u001b[0m         \u001b[0margs\u001b[0m\u001b[0;34m.\u001b[0m\u001b[0mextend\u001b[0m\u001b[0;34m(\u001b[0m\u001b[0mcmds\u001b[0m\u001b[0;34m[\u001b[0m\u001b[0;36m1\u001b[0m\u001b[0;34m:\u001b[0m\u001b[0;34m]\u001b[0m\u001b[0;34m.\u001b[0m\u001b[0msplit\u001b[0m\u001b[0;34m(\u001b[0m\u001b[0;34m)\u001b[0m\u001b[0;34m)\u001b[0m\u001b[0;34m\u001b[0m\u001b[0;34m\u001b[0m\u001b[0m\n\u001b[0;32m--> 152\u001b[0;31m         \u001b[0mcbc\u001b[0m \u001b[0;34m=\u001b[0m \u001b[0msubprocess\u001b[0m\u001b[0;34m.\u001b[0m\u001b[0mPopen\u001b[0m\u001b[0;34m(\u001b[0m\u001b[0margs\u001b[0m\u001b[0;34m,\u001b[0m \u001b[0mstdout\u001b[0m \u001b[0;34m=\u001b[0m \u001b[0mpipe\u001b[0m\u001b[0;34m,\u001b[0m \u001b[0mstderr\u001b[0m \u001b[0;34m=\u001b[0m \u001b[0mpipe\u001b[0m\u001b[0;34m,\u001b[0m \u001b[0mstdin\u001b[0m\u001b[0;34m=\u001b[0m\u001b[0mdevnull\u001b[0m\u001b[0;34m)\u001b[0m\u001b[0;34m\u001b[0m\u001b[0;34m\u001b[0m\u001b[0m\n\u001b[0m\u001b[1;32m    153\u001b[0m         \u001b[0;32mif\u001b[0m \u001b[0mcbc\u001b[0m\u001b[0;34m.\u001b[0m\u001b[0mwait\u001b[0m\u001b[0;34m(\u001b[0m\u001b[0;34m)\u001b[0m \u001b[0;34m!=\u001b[0m \u001b[0;36m0\u001b[0m\u001b[0;34m:\u001b[0m\u001b[0;34m\u001b[0m\u001b[0;34m\u001b[0m\u001b[0m\n\u001b[1;32m    154\u001b[0m             raise PulpSolverError(\"Pulp: Error while trying to execute, use msg=True for more details\" +  \\\n",
      "\u001b[0;32m/usr/lib/python3.8/subprocess.py\u001b[0m in \u001b[0;36m__init__\u001b[0;34m(self, args, bufsize, executable, stdin, stdout, stderr, preexec_fn, close_fds, shell, cwd, env, universal_newlines, startupinfo, creationflags, restore_signals, start_new_session, pass_fds, encoding, errors, text)\u001b[0m\n\u001b[1;32m    852\u001b[0m                             encoding=encoding, errors=errors)\n\u001b[1;32m    853\u001b[0m \u001b[0;34m\u001b[0m\u001b[0m\n\u001b[0;32m--> 854\u001b[0;31m             self._execute_child(args, executable, preexec_fn, close_fds,\n\u001b[0m\u001b[1;32m    855\u001b[0m                                 \u001b[0mpass_fds\u001b[0m\u001b[0;34m,\u001b[0m \u001b[0mcwd\u001b[0m\u001b[0;34m,\u001b[0m \u001b[0menv\u001b[0m\u001b[0;34m,\u001b[0m\u001b[0;34m\u001b[0m\u001b[0;34m\u001b[0m\u001b[0m\n\u001b[1;32m    856\u001b[0m                                 \u001b[0mstartupinfo\u001b[0m\u001b[0;34m,\u001b[0m \u001b[0mcreationflags\u001b[0m\u001b[0;34m,\u001b[0m \u001b[0mshell\u001b[0m\u001b[0;34m,\u001b[0m\u001b[0;34m\u001b[0m\u001b[0;34m\u001b[0m\u001b[0m\n",
      "\u001b[0;32m/usr/lib/python3.8/subprocess.py\u001b[0m in \u001b[0;36m_execute_child\u001b[0;34m(self, args, executable, preexec_fn, close_fds, pass_fds, cwd, env, startupinfo, creationflags, shell, p2cread, p2cwrite, c2pread, c2pwrite, errread, errwrite, restore_signals, start_new_session)\u001b[0m\n\u001b[1;32m   1700\u001b[0m                     \u001b[0;32mif\u001b[0m \u001b[0merrno_num\u001b[0m \u001b[0;34m!=\u001b[0m \u001b[0;36m0\u001b[0m\u001b[0;34m:\u001b[0m\u001b[0;34m\u001b[0m\u001b[0;34m\u001b[0m\u001b[0m\n\u001b[1;32m   1701\u001b[0m                         \u001b[0merr_msg\u001b[0m \u001b[0;34m=\u001b[0m \u001b[0mos\u001b[0m\u001b[0;34m.\u001b[0m\u001b[0mstrerror\u001b[0m\u001b[0;34m(\u001b[0m\u001b[0merrno_num\u001b[0m\u001b[0;34m)\u001b[0m\u001b[0;34m\u001b[0m\u001b[0;34m\u001b[0m\u001b[0m\n\u001b[0;32m-> 1702\u001b[0;31m                     \u001b[0;32mraise\u001b[0m \u001b[0mchild_exception_type\u001b[0m\u001b[0;34m(\u001b[0m\u001b[0merrno_num\u001b[0m\u001b[0;34m,\u001b[0m \u001b[0merr_msg\u001b[0m\u001b[0;34m,\u001b[0m \u001b[0merr_filename\u001b[0m\u001b[0;34m)\u001b[0m\u001b[0;34m\u001b[0m\u001b[0;34m\u001b[0m\u001b[0m\n\u001b[0m\u001b[1;32m   1703\u001b[0m                 \u001b[0;32mraise\u001b[0m \u001b[0mchild_exception_type\u001b[0m\u001b[0;34m(\u001b[0m\u001b[0merr_msg\u001b[0m\u001b[0;34m)\u001b[0m\u001b[0;34m\u001b[0m\u001b[0;34m\u001b[0m\u001b[0m\n\u001b[1;32m   1704\u001b[0m \u001b[0;34m\u001b[0m\u001b[0m\n",
      "\u001b[0;31mOSError\u001b[0m: [Errno 8] Exec format error: '/opt/jupyterhub/lib/python3.8/site-packages/pulp/apis/../solverdir/cbc/linux/64/cbc'"
     ]
    }
   ],
   "source": [
    "model.solve()"
   ]
  },
  {
   "cell_type": "code",
   "execution_count": null,
   "metadata": {},
   "outputs": [],
   "source": []
  }
 ],
 "metadata": {
  "kernelspec": {
   "display_name": "Python 3",
   "language": "python",
   "name": "python3"
  },
  "language_info": {
   "codemirror_mode": {
    "name": "ipython",
    "version": 3
   },
   "file_extension": ".py",
   "mimetype": "text/x-python",
   "name": "python",
   "nbconvert_exporter": "python",
   "pygments_lexer": "ipython3",
   "version": "3.8.10"
  }
 },
 "nbformat": 4,
 "nbformat_minor": 4
}
