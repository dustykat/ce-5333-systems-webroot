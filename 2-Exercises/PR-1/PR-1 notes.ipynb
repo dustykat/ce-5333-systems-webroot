{
 "cells": [
  {
   "cell_type": "markdown",
   "id": "160ea2f7-cc28-4950-a2ef-1f741ec85eb2",
   "metadata": {},
   "source": [
    "[Link to 1968 Texas Water Plan](https://www.twdb.texas.gov/waterplanning/swp/1968/index.asp)\n",
    "\n",
    "![](TexasStateWaterPlanPlate3.jpg)\n",
    "\n",
    "[Link to DataServer](https://twdb-wsc.maps.arcgis.com/apps/webappviewer/index.html?id=50d9b795672243d387cef438f7c62311)"
   ]
  },
  {
   "cell_type": "code",
   "execution_count": null,
   "id": "9b6265f3-c061-4d8f-b09f-a70e82284104",
   "metadata": {},
   "outputs": [],
   "source": []
  }
 ],
 "metadata": {
  "kernelspec": {
   "display_name": "Python 38",
   "language": "python",
   "name": "python38"
  },
  "language_info": {
   "codemirror_mode": {
    "name": "ipython",
    "version": 3
   },
   "file_extension": ".py",
   "mimetype": "text/x-python",
   "name": "python",
   "nbconvert_exporter": "python",
   "pygments_lexer": "ipython3",
   "version": "3.8.3"
  }
 },
 "nbformat": 4,
 "nbformat_minor": 5
}
