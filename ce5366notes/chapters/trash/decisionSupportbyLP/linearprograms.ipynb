{
 "cells": [
  {
   "cell_type": "markdown",
   "metadata": {},
   "source": [
    "# Linear Programming for Decision Support"
   ]
  },
  {
   "cell_type": "markdown",
   "metadata": {},
   "source": [
    "## Example using `scipy`"
   ]
  },
  {
   "cell_type": "code",
   "execution_count": 48,
   "metadata": {},
   "outputs": [],
   "source": [
    "from scipy.optimize import linprog"
   ]
  },
  {
   "cell_type": "code",
   "execution_count": 49,
   "metadata": {},
   "outputs": [],
   "source": [
    "obj = [-1, -2]\n",
    "lhs_ineq = [[ 2,  1],  # Red constraint left side\n",
    "[-4,  5],  # Blue constraint left side\n",
    "[ 1, -2]]  # Yellow constraint left side\n",
    "\n",
    "rhs_ineq = [20,  # Red constraint right side\n",
    "10,  # Blue constraint right side\n",
    "2]  # Yellow constraint right side\n",
    "\n",
    "lhs_eq = [[-1, 5]]  # Green constraint left side\n",
    "rhs_eq = [15]       # Green constraint right side"
   ]
  },
  {
   "cell_type": "code",
   "execution_count": 50,
   "metadata": {},
   "outputs": [],
   "source": [
    "bnd = [(0, float(\"inf\")),  # Bounds of x\n",
    "(0, float(\"inf\"))]  # Bounds of y"
   ]
  },
  {
   "cell_type": "code",
   "execution_count": 51,
   "metadata": {},
   "outputs": [
    {
     "data": {
      "text/plain": [
       "     con: array([1.77635684e-15])\n",
       "     fun: -16.818181818181817\n",
       " message: 'Optimization terminated successfully.'\n",
       "     nit: 3\n",
       "   slack: array([ 0.        , 18.18181818,  3.36363636])\n",
       "  status: 0\n",
       " success: True\n",
       "       x: array([7.72727273, 4.54545455])"
      ]
     },
     "execution_count": 51,
     "metadata": {},
     "output_type": "execute_result"
    }
   ],
   "source": [
    "opt = linprog(c=obj, A_ub=lhs_ineq, b_ub=rhs_ineq,\n",
    "...               A_eq=lhs_eq, b_eq=rhs_eq, bounds=bnd,\n",
    "...               method=\"revised simplex\")\n",
    "opt"
   ]
  },
  {
   "cell_type": "markdown",
   "metadata": {},
   "source": [
    "## Example using `Python-MIP`\n",
    "\n",
    "Python-MIP is one of many LP solvers avaialble on the mighty internet; it is used in this course because it appears to run on a Raspberry Pi withou a lot of fuss (this is an architecture issue, for students using X86-64 machines, the Anaconda install should be just fine, and you can use any LP solver you wish)\n",
    "\n"
   ]
  },
  {
   "cell_type": "code",
   "execution_count": 102,
   "metadata": {},
   "outputs": [
    {
     "name": "stderr",
     "output_type": "stream",
     "text": [
      "An error occurred while loading the CBC library:\t cannot load library '/opt/jupyterhub/lib/python3.8/site-packages/mip/libraries/cbc-c-linux-x86-64.so': /opt/jupyterhub/lib/python3.8/site-packages/mip/libraries/cbc-c-linux-x86-64.so: cannot open shared object file: No such file or directory.  Additionally, ctypes.util.find_library() did not manage to locate a library called '/opt/jupyterhub/lib/python3.8/site-packages/mip/libraries/cbc-c-linux-x86-64.so'\n",
      "\n"
     ]
    },
    {
     "ename": "NameError",
     "evalue": "name 'cbclib' is not defined",
     "output_type": "error",
     "traceback": [
      "\u001b[0;31m---------------------------------------------------------------------------\u001b[0m",
      "\u001b[0;31mNameError\u001b[0m                                 Traceback (most recent call last)",
      "\u001b[0;32m<ipython-input-102-467757d9853c>\u001b[0m in \u001b[0;36m<module>\u001b[0;34m\u001b[0m\n\u001b[1;32m      5\u001b[0m \u001b[0mc\u001b[0m\u001b[0;34m,\u001b[0m \u001b[0mI\u001b[0m \u001b[0;34m=\u001b[0m \u001b[0;36m47\u001b[0m\u001b[0;34m,\u001b[0m \u001b[0mrange\u001b[0m\u001b[0;34m(\u001b[0m\u001b[0mlen\u001b[0m\u001b[0;34m(\u001b[0m\u001b[0mw\u001b[0m\u001b[0;34m)\u001b[0m\u001b[0;34m)\u001b[0m\u001b[0;34m\u001b[0m\u001b[0;34m\u001b[0m\u001b[0m\n\u001b[1;32m      6\u001b[0m \u001b[0;34m\u001b[0m\u001b[0m\n\u001b[0;32m----> 7\u001b[0;31m \u001b[0mm\u001b[0m \u001b[0;34m=\u001b[0m \u001b[0mModel\u001b[0m\u001b[0;34m(\u001b[0m\u001b[0;34m\"knapsack\"\u001b[0m\u001b[0;34m)\u001b[0m\u001b[0;34m\u001b[0m\u001b[0;34m\u001b[0m\u001b[0m\n\u001b[0m\u001b[1;32m      8\u001b[0m \u001b[0;34m\u001b[0m\u001b[0m\n\u001b[1;32m      9\u001b[0m \u001b[0mx\u001b[0m \u001b[0;34m=\u001b[0m \u001b[0;34m[\u001b[0m\u001b[0mm\u001b[0m\u001b[0;34m.\u001b[0m\u001b[0madd_var\u001b[0m\u001b[0;34m(\u001b[0m\u001b[0mvar_type\u001b[0m\u001b[0;34m=\u001b[0m\u001b[0mBINARY\u001b[0m\u001b[0;34m)\u001b[0m \u001b[0;32mfor\u001b[0m \u001b[0mi\u001b[0m \u001b[0;32min\u001b[0m \u001b[0mI\u001b[0m\u001b[0;34m]\u001b[0m\u001b[0;34m\u001b[0m\u001b[0;34m\u001b[0m\u001b[0m\n",
      "\u001b[0;32m/opt/jupyterhub/lib/python3.8/site-packages/mip/model.py\u001b[0m in \u001b[0;36m__init__\u001b[0;34m(self, name, sense, solver_name, solver)\u001b[0m\n\u001b[1;32m     96\u001b[0m                     \u001b[0mself\u001b[0m\u001b[0;34m.\u001b[0m\u001b[0msolver_name\u001b[0m \u001b[0;34m=\u001b[0m \u001b[0mmip\u001b[0m\u001b[0;34m.\u001b[0m\u001b[0mGUROBI\u001b[0m\u001b[0;34m\u001b[0m\u001b[0;34m\u001b[0m\u001b[0m\n\u001b[1;32m     97\u001b[0m                 \u001b[0;32melse\u001b[0m\u001b[0;34m:\u001b[0m\u001b[0;34m\u001b[0m\u001b[0;34m\u001b[0m\u001b[0m\n\u001b[0;32m---> 98\u001b[0;31m                     \u001b[0;32mimport\u001b[0m \u001b[0mmip\u001b[0m\u001b[0;34m.\u001b[0m\u001b[0mcbc\u001b[0m\u001b[0;34m\u001b[0m\u001b[0;34m\u001b[0m\u001b[0m\n\u001b[0m\u001b[1;32m     99\u001b[0m \u001b[0;34m\u001b[0m\u001b[0m\n\u001b[1;32m    100\u001b[0m                     \u001b[0mself\u001b[0m\u001b[0;34m.\u001b[0m\u001b[0msolver\u001b[0m \u001b[0;34m=\u001b[0m \u001b[0mmip\u001b[0m\u001b[0;34m.\u001b[0m\u001b[0mcbc\u001b[0m\u001b[0;34m.\u001b[0m\u001b[0mSolverCbc\u001b[0m\u001b[0;34m(\u001b[0m\u001b[0mself\u001b[0m\u001b[0;34m,\u001b[0m \u001b[0mname\u001b[0m\u001b[0;34m,\u001b[0m \u001b[0msense\u001b[0m\u001b[0;34m)\u001b[0m\u001b[0;34m\u001b[0m\u001b[0;34m\u001b[0m\u001b[0m\n",
      "\u001b[0;32m/opt/jupyterhub/lib/python3.8/site-packages/mip/cbc.py\u001b[0m in \u001b[0;36m<module>\u001b[0;34m\u001b[0m\n\u001b[1;32m    601\u001b[0m \u001b[0;34m\u001b[0m\u001b[0m\n\u001b[1;32m    602\u001b[0m \u001b[0;34m\u001b[0m\u001b[0m\n\u001b[0;32m--> 603\u001b[0;31m \u001b[0mOsi_getNumCols\u001b[0m \u001b[0;34m=\u001b[0m \u001b[0mcbclib\u001b[0m\u001b[0;34m.\u001b[0m\u001b[0mOsi_getNumCols\u001b[0m\u001b[0;34m\u001b[0m\u001b[0;34m\u001b[0m\u001b[0m\n\u001b[0m\u001b[1;32m    604\u001b[0m \u001b[0mOsi_getColSolution\u001b[0m \u001b[0;34m=\u001b[0m \u001b[0mcbclib\u001b[0m\u001b[0;34m.\u001b[0m\u001b[0mOsi_getColSolution\u001b[0m\u001b[0;34m\u001b[0m\u001b[0;34m\u001b[0m\u001b[0m\n\u001b[1;32m    605\u001b[0m \u001b[0mOsi_getIntegerTolerance\u001b[0m \u001b[0;34m=\u001b[0m \u001b[0mcbclib\u001b[0m\u001b[0;34m.\u001b[0m\u001b[0mOsi_getIntegerTolerance\u001b[0m\u001b[0;34m\u001b[0m\u001b[0;34m\u001b[0m\u001b[0m\n",
      "\u001b[0;31mNameError\u001b[0m: name 'cbclib' is not defined"
     ]
    }
   ],
   "source": [
    "from mip import Model, xsum, maximize, BINARY\n",
    "\n",
    "p = [10, 13, 18, 31, 7, 15]\n",
    "w = [11, 15, 20, 35, 10, 33]\n",
    "c, I = 47, range(len(w))\n",
    "\n",
    "m = Model(\"knapsack\")\n",
    "\n",
    "x = [m.add_var(var_type=BINARY) for i in I]\n",
    "\n",
    "m.objective = maximize(xsum(p[i] * x[i] for i in I))\n",
    "\n",
    "m += xsum(w[i] * x[i] for i in I) <= c\n",
    "\n",
    "m.optimize()\n",
    "\n",
    "selected = [i for i in I if x[i].x >= 0.99]\n",
    "print(\"selected items: {}\".format(selected))\n"
   ]
  },
  {
   "cell_type": "markdown",
   "metadata": {},
   "source": [
    "## References\n",
    "1. [Mirko Stojiljković (2020) Hands-On Linear Programming: Optimization With Python. Real Python (Blog Post)](https://realpython.com/linear-programming-python/)\n",
    "2. [scipy.optimize.linprog (Documentation)](https://docs.scipy.org/doc/scipy/reference/generated/scipy.optimize.linprog.html) \n",
    "3. [Priyansh Soni (2020) Linear Programming using Python. Towards Data Science (Blog Post)](https://towardsdatascience.com/linear-programming-using-python-priyansh-22b5ee888fe0)\n"
   ]
  },
  {
   "cell_type": "code",
   "execution_count": null,
   "metadata": {},
   "outputs": [],
   "source": []
  }
 ],
 "metadata": {
  "kernelspec": {
   "display_name": "Python 3",
   "language": "python",
   "name": "python3"
  },
  "language_info": {
   "codemirror_mode": {
    "name": "ipython",
    "version": 3
   },
   "file_extension": ".py",
   "mimetype": "text/x-python",
   "name": "python",
   "nbconvert_exporter": "python",
   "pygments_lexer": "ipython3",
   "version": "3.8.10"
  }
 },
 "nbformat": 4,
 "nbformat_minor": 4
}
