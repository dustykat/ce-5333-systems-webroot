{
 "cells": [
  {
   "cell_type": "markdown",
   "metadata": {},
   "source": [
    "# Water Supply Allocation under Uncertainty\n",
    "\n",
    "Introduction of uncertainty into an allocation problem creates a stochastic programming situation. There are a variety of methods to address stochastic programming, the next two examples illustrate a case where the problem is linear enough for a linear programming solution. Using LP for stochastic problems results in a large increase in the number of variables and constraints to account for alternative scenarios or in the use of chance constraints. These two approaches are explored in this chapter and the next – in this chapter we will examine two-stage linear programming by means of a simple example. The example will be repeated in the next chapter using a concept called \"chance constraints\"."
   ]
  },
  {
   "cell_type": "markdown",
   "metadata": {},
   "source": [
    "A water master for a region can divert water from an unregulated stream to three\n",
    "consumers: a municipality, an industrial concern, and an agricultural concern. A\n",
    "schematic of the system is shown in the sketch below:\n",
    "\n",
    "![](diversionsketch.png)"
   ]
  },
  {
   "cell_type": "markdown",
   "metadata": {},
   "source": [
    "The industrial and agricultural concern are expanding and would like to know how\n",
    "much water they can expect. If the water supply is insufficient, the expansion plans\n",
    "will be curtailed.\n",
    "\n",
    "The unregulated streamflow is a random variable, and the goal of the water master\n",
    "is to maximize benefit to the water supply authority.\n",
    "Let $T_i$ represent the contracted quantity of water the supplier will deliver to each\n",
    "user $i$ (there are three in this example). If the water is delivered, the resulting net benefits to the local economy are\n",
    "estimated to be $NB_i$. However, if the water is not delivered, water must be obtained from an alternate source, or demand must be curtailed by rationing of the municipal users, reduced production by industrial users, or reduced irrigation by the agricultural users. Such deficits reduce the net benefits to user $i$ by a cost $C_i$ per unit of water not supplied. Each user can provide the water master with an estimate of the maximum amount of water they can use, $T_{max}$."
   ]
  },
  {
   "cell_type": "markdown",
   "metadata": {},
   "source": [
    "$Q$, the total water available, is a random variable described by some probability\n",
    "distribution. The water master’s goal is to maximize the expected net benefit to the\n",
    "region by allocating water to the three users.\n",
    "\n",
    "## Linear Programming Model Framework\n",
    "\n",
    "Let the deficit for a delivery be denoted by the variable $D_{i,j}$ , where the $i$ subscript\n",
    "refers to a particular user, and the $j$ subscript refers to the particular random supply scenario.\n",
    "The water masters allocation problem is then to maximize expected benefit. Recall\n",
    "an expected cost (or benefit) is the product of the probability of an outcome and the value (cost) of the outcome.\n",
    "In this example the benefits of the deliveries is assured (probability = 1), but the costs of the deficits are stochastic, hence the benefit function is:\n",
    "\n",
    "$$ NB = NB_{1} \\cdot T_{1} + NB_{2} \\cdot T_{2} + NB_{3} \\cdot T_{3} - E(C_{1} \\cdot D_{1,Q} + C_{2} \\cdot D_{2,Q} + C_{3} \\cdot D_{3,Q})$$\n",
    "\n",
    "The constraints that are imposed are:\n",
    "\n",
    "$$ T_1 + T_2 + T_3 - [D_{1,Q} + D_{2,Q} + D_{3,Q}] \\le Q$$\n",
    "\n",
    "$$ 0 \\le T_i - D_{i,Q} \\le T_i^{max} $$\n",
    "\n"
   ]
  },
  {
   "cell_type": "markdown",
   "metadata": {},
   "source": [
    "## Approximating the Random Variable\n",
    "\n",
    "To approximate the value of the expectation, we can approximate the distribution of\n",
    "Q with a discrete distribution as in the sketch below. For a continuous distribution, some\n",
    "kind of discretization will be required to keep the LP manageable.\n",
    "\n",
    "![](flowprob.png)\n",
    "\n",
    "We can obtain such an approximation by analysing the supply streamflow and use the [flow-duration curve](https://pubs.er.usgs.gov/publication/wsp1542A) to postulate promability mass values for different flow rates (annualized or at least seasonalized)."
   ]
  },
  {
   "cell_type": "code",
   "execution_count": null,
   "metadata": {},
   "outputs": [],
   "source": []
  }
 ],
 "metadata": {
  "kernelspec": {
   "display_name": "Python 3",
   "language": "python",
   "name": "python3"
  },
  "language_info": {
   "codemirror_mode": {
    "name": "ipython",
    "version": 3
   },
   "file_extension": ".py",
   "mimetype": "text/x-python",
   "name": "python",
   "nbconvert_exporter": "python",
   "pygments_lexer": "ipython3",
   "version": "3.8.10"
  }
 },
 "nbformat": 4,
 "nbformat_minor": 4
}
