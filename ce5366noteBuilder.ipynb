{
 "cells": [
  {
   "cell_type": "code",
   "execution_count": 1,
   "metadata": {},
   "outputs": [
    {
     "name": "stdout",
     "output_type": "stream",
     "text": [
      "\n",
      "\u001b[92m===============================================================================\u001b[0m\n",
      "\n",
      "Your book template can be found at\n",
      "\n",
      "    ce5366notes/\n",
      "\n",
      "\u001b[92m===============================================================================\u001b[0m\n",
      "\n"
     ]
    }
   ],
   "source": [
    "! jupyter-book create ce5366notes"
   ]
  },
  {
   "cell_type": "code",
   "execution_count": 2,
   "metadata": {},
   "outputs": [
    {
     "name": "stdout",
     "output_type": "stream",
     "text": [
      "\u001b[32m\u001b[1mRunning Jupyter-Book v0.12.0\u001b[0m\n",
      "\u001b[34m\u001b[1mSource Folder: \u001b[0m/home/sensei/ce-5333-systems-webroot/ce5366notes\n",
      "\u001b[34m\u001b[1mConfig Path: \u001b[0m/home/sensei/ce-5333-systems-webroot/ce5366notes/_config.yml\n",
      "\u001b[34m\u001b[1mOutput Path: \u001b[0m/home/sensei/ce-5333-systems-webroot/ce5366notes/_build/html\n",
      "\u001b[01mRunning Sphinx v3.5.2\u001b[39;49;00m\n",
      "[etoc] Changing master_doc to 'intro'\n",
      "checking for /home/sensei/ce-5333-systems-webroot/ce5366notes/references.bib in bibtex cache... not found\n",
      "parsing bibtex file /home/sensei/ce-5333-systems-webroot/ce5366notes/references.bib... parsed 5 entries\n",
      "\u001b[01mmyst v0.15.2:\u001b[39;49;00m MdParserConfig(renderer='sphinx', commonmark_only=False, enable_extensions=['colon_fence', 'dollarmath', 'linkify', 'substitution', 'tasklist'], dmath_allow_labels=True, dmath_allow_space=True, dmath_allow_digits=True, dmath_double_inline=False, update_mathjax=True, mathjax_classes='tex2jax_process|mathjax_process|math|output_area', disable_syntax=[], url_schemes=['mailto', 'http', 'https'], heading_anchors=None, heading_slug_func=None, html_meta=[], footnote_transition=True, substitutions=[], sub_delimiters=['{', '}'], words_per_minute=200)\n",
      "\u001b[01mbuilding [mo]: \u001b[39;49;00mtargets for 0 po files that are out of date\n",
      "\u001b[01mbuilding [html]: \u001b[39;49;00mtargets for 21 source files that are out of date\n",
      "\u001b[01mupdating environment: \u001b[39;49;00m[new config] 21 added, 0 changed, 0 removed\n",
      "Executing: chapters/decisionSupportbyLP/linearprograms in: /home/sensei/ce-5333-systems-webroot/ce5366notes/chapters/decisionSupportbyLP\n",
      "Executing: chapters/decisionSupportbyNLP/nonlinearprograms in: /home/sensei/ce-5333-systems-webroot/ce5366notes/chapters/decisionSupportbyNLP\n",
      "Executing: chapters/economics/economics in: /home/sensei/ce-5333-systems-webroot/ce5366notes/chapters/economics \n",
      "Executing: chapters/gwexample/gwexample in: /home/sensei/ce-5333-systems-webroot/ce5366notes/chapters/gwexample \n",
      "Executing: chapters/introduction/introduction in: /home/sensei/ce-5333-systems-webroot/ce5366notes/chapters/introduction\n",
      "Executing: chapters/introduction/resourcesallocation in: /home/sensei/ce-5333-systems-webroot/ce5366notes/chapters/introduction\n",
      "Executing: chapters/optimization/1topic in: /home/sensei/ce-5333-systems-webroot/ce5366notes/chapters/optimization\n",
      "Executing: chapters/optimization/2topic in: /home/sensei/ce-5333-systems-webroot/ce5366notes/chapters/optimization\n",
      "Executing: chapters/optimization/3topic in: /home/sensei/ce-5333-systems-webroot/ce5366notes/chapters/optimization\n",
      "Executing: chapters/optimization/optimization in: /home/sensei/ce-5333-systems-webroot/ce5366notes/chapters/optimization\n",
      "Executing: chapters/qual2e/qual2e in: /home/sensei/ce-5333-systems-webroot/ce5366notes/chapters/qual2e          \n",
      "\u001b[91m/home/sensei/ce-5333-systems-webroot/ce5366notes/chapters/economics/economics.ipynb:: WARNING: toctree contains reference to nonexisting document 'chapters/economics/policyoverride' [etoc.ref]\u001b[39;49;00m\n",
      "\u001b[91m/home/sensei/ce-5333-systems-webroot/ce5366notes/chapters/economics/economics.ipynb:: WARNING: image file not readable: chapters/economics/cashflow.png\u001b[39;49;00m\n",
      "\u001b[91m/home/sensei/ce-5333-systems-webroot/ce5366notes/chapters/optimization/3topic.ipynb:10006: WARNING: Non-consecutive header level increase; 0 to 2 [myst.header]\u001b[39;49;00m\n",
      "\u001b[91m/home/sensei/ce-5333-systems-webroot/ce5366notes/chapters/optimization/3topic.ipynb:10025: WARNING: Non-consecutive header level increase; 0 to 2 [myst.header]\u001b[39;49;00m\n",
      "\u001b[91m/home/sensei/ce-5333-systems-webroot/ce5366notes/chapters/optimization/3topic.ipynb:10027: WARNING: Non-consecutive header level increase; 0 to 2 [myst.header]\u001b[39;49;00m\n",
      "\u001b[91m/home/sensei/ce-5333-systems-webroot/ce5366notes/chapters/optimization/3topic.ipynb:10002: WARNING: image file not readable: chapters/optimization/attachment:e5cc2360-f341-41d2-b854-dce2031abdde.png\u001b[39;49;00m\n",
      "\n",
      "\u001b[91mException occurred:\u001b[39;49;00m\n",
      "  File \"/opt/jupyterhub/lib/python3.8/site-packages/jupyter_client/kernelspec.py\", line 235, in get_kernel_spec\n",
      "    raise NoSuchKernel(kernel_name)\n",
      "jupyter_client.kernelspec.NoSuchKernel: No such kernel named python38\n",
      "\u001b[91mThe full traceback has been saved in /tmp/sphinx-err-rn4qv449.log, if you want to report the issue to the developers.\u001b[39;49;00m\n",
      "Please also report this if it was a user error, so that a better error message can be provided next time.\n",
      "A bug report can be filed in the tracker at <https://github.com/sphinx-doc/sphinx/issues>. Thanks!\n",
      "Traceback (most recent call last):\n",
      "  File \"/opt/jupyterhub/lib/python3.8/site-packages/jupyter_book/sphinx.py\", line 167, in build_sphinx\n",
      "    app.build(force_all, filenames)\n",
      "  File \"/opt/jupyterhub/lib/python3.8/site-packages/sphinx/application.py\", line 352, in build\n",
      "    self.builder.build_update()\n",
      "  File \"/opt/jupyterhub/lib/python3.8/site-packages/sphinx/builders/__init__.py\", line 296, in build_update\n",
      "    self.build(to_build,\n",
      "  File \"/opt/jupyterhub/lib/python3.8/site-packages/sphinx/builders/__init__.py\", line 310, in build\n",
      "    updated_docnames = set(self.read())\n",
      "  File \"/opt/jupyterhub/lib/python3.8/site-packages/sphinx/builders/__init__.py\", line 417, in read\n",
      "    self._read_serial(docnames)\n",
      "  File \"/opt/jupyterhub/lib/python3.8/site-packages/sphinx/builders/__init__.py\", line 438, in _read_serial\n",
      "    self.read_doc(docname)\n",
      "  File \"/opt/jupyterhub/lib/python3.8/site-packages/sphinx/builders/__init__.py\", line 478, in read_doc\n",
      "    doctree = read_doc(self.app, self.env, self.env.doc2path(docname))\n",
      "  File \"/opt/jupyterhub/lib/python3.8/site-packages/sphinx/io.py\", line 221, in read_doc\n",
      "    pub.publish()\n",
      "  File \"/opt/jupyterhub/lib/python3.8/site-packages/docutils/core.py\", line 217, in publish\n",
      "    self.document = self.reader.read(self.source, self.parser,\n",
      "  File \"/opt/jupyterhub/lib/python3.8/site-packages/sphinx/io.py\", line 126, in read\n",
      "    self.parse()\n",
      "  File \"/opt/jupyterhub/lib/python3.8/site-packages/docutils/readers/__init__.py\", line 77, in parse\n",
      "    self.parser.parse(self.input, document)\n",
      "  File \"/opt/jupyterhub/lib/python3.8/site-packages/myst_nb/parser.py\", line 67, in parse\n",
      "    ntbk = generate_notebook_outputs(\n",
      "  File \"/opt/jupyterhub/lib/python3.8/site-packages/myst_nb/execution.py\", line 137, in generate_notebook_outputs\n",
      "    result = single_nb_execution(\n",
      "  File \"/opt/jupyterhub/lib/python3.8/site-packages/jupyter_cache/executors/utils.py\", line 51, in single_nb_execution\n",
      "    executenb(\n",
      "  File \"/opt/jupyterhub/lib/python3.8/site-packages/nbclient/client.py\", line 1087, in execute\n",
      "    return NotebookClient(nb=nb, resources=resources, km=km, **kwargs).execute()\n",
      "  File \"/opt/jupyterhub/lib/python3.8/site-packages/nbclient/util.py\", line 74, in wrapped\n",
      "    return just_run(coro(*args, **kwargs))\n",
      "  File \"/opt/jupyterhub/lib/python3.8/site-packages/nbclient/util.py\", line 53, in just_run\n",
      "    return loop.run_until_complete(coro)\n",
      "  File \"/usr/lib/python3.8/asyncio/base_events.py\", line 616, in run_until_complete\n",
      "    return future.result()\n",
      "  File \"/opt/jupyterhub/lib/python3.8/site-packages/nbclient/client.py\", line 524, in async_execute\n",
      "    async with self.async_setup_kernel(**kwargs):\n",
      "  File \"/opt/jupyterhub/lib/python3.8/site-packages/async_generator/_util.py\", line 34, in __aenter__\n",
      "    return await self._agen.asend(None)\n",
      "  File \"/opt/jupyterhub/lib/python3.8/site-packages/nbclient/client.py\", line 482, in async_setup_kernel\n",
      "    await self.async_start_new_kernel(**kwargs)\n",
      "  File \"/opt/jupyterhub/lib/python3.8/site-packages/nbclient/client.py\", line 394, in async_start_new_kernel\n",
      "    await ensure_async(self.km.start_kernel(extra_arguments=self.extra_arguments, **kwargs))\n",
      "  File \"/opt/jupyterhub/lib/python3.8/site-packages/nbclient/util.py\", line 85, in ensure_async\n",
      "    result = await obj\n",
      "  File \"/opt/jupyterhub/lib/python3.8/site-packages/jupyter_client/manager.py\", line 571, in start_kernel\n",
      "    kernel_cmd, kw = self.pre_start_kernel(**kw)\n",
      "  File \"/opt/jupyterhub/lib/python3.8/site-packages/jupyter_client/manager.py\", line 262, in pre_start_kernel\n",
      "    kernel_cmd = self.format_kernel_cmd(extra_arguments=extra_arguments)\n",
      "  File \"/opt/jupyterhub/lib/python3.8/site-packages/jupyter_client/manager.py\", line 181, in format_kernel_cmd\n",
      "    cmd = self.kernel_spec.argv + extra_arguments\n",
      "  File \"/opt/jupyterhub/lib/python3.8/site-packages/jupyter_client/manager.py\", line 87, in kernel_spec\n",
      "    self._kernel_spec = self.kernel_spec_manager.get_kernel_spec(self.kernel_name)\n",
      "  File \"/opt/jupyterhub/lib/python3.8/site-packages/jupyter_client/kernelspec.py\", line 235, in get_kernel_spec\n",
      "    raise NoSuchKernel(kernel_name)\n",
      "jupyter_client.kernelspec.NoSuchKernel: No such kernel named python38\n",
      "\n",
      "The above exception was the direct cause of the following exception:\n",
      "\n",
      "Traceback (most recent call last):\n",
      "  File \"/opt/jupyterhub/bin/jupyter-book\", line 8, in <module>\n",
      "    sys.exit(main())\n",
      "  File \"/opt/jupyterhub/lib/python3.8/site-packages/click/core.py\", line 1128, in __call__\n",
      "    return self.main(*args, **kwargs)\n",
      "  File \"/opt/jupyterhub/lib/python3.8/site-packages/click/core.py\", line 1053, in main\n",
      "    rv = self.invoke(ctx)\n",
      "  File \"/opt/jupyterhub/lib/python3.8/site-packages/click/core.py\", line 1659, in invoke\n",
      "    return _process_result(sub_ctx.command.invoke(sub_ctx))\n",
      "  File \"/opt/jupyterhub/lib/python3.8/site-packages/click/core.py\", line 1395, in invoke\n",
      "    return ctx.invoke(self.callback, **ctx.params)\n",
      "  File \"/opt/jupyterhub/lib/python3.8/site-packages/click/core.py\", line 754, in invoke\n",
      "    return __callback(*args, **kwargs)\n",
      "  File \"/opt/jupyterhub/lib/python3.8/site-packages/jupyter_book/cli/main.py\", line 319, in build\n",
      "    builder_specific_actions(\n",
      "  File \"/opt/jupyterhub/lib/python3.8/site-packages/jupyter_book/cli/main.py\", line 519, in builder_specific_actions\n",
      "    raise RuntimeError(_message_box(msg, color=\"red\", doprint=False)) from result\n",
      "RuntimeError: \n",
      "\u001b[91m===============================================================================\u001b[0m\n",
      "\n",
      "There was an error in building your book. Look above for the cause.\n",
      "\n",
      "\u001b[91m===============================================================================\u001b[0m\n",
      "\n"
     ]
    }
   ],
   "source": [
    "! jupyter-book build ce5366notes"
   ]
  },
  {
   "cell_type": "code",
   "execution_count": 2,
   "metadata": {},
   "outputs": [
    {
     "name": "stdout",
     "output_type": "stream",
     "text": [
      "/home/sensei/ce-5333-systems-webroot\n"
     ]
    }
   ],
   "source": [
    "! pwd"
   ]
  },
  {
   "cell_type": "markdown",
   "metadata": {},
   "source": [
    "https://ocw.mit.edu/courses/1-731-water-resource-systems-fall-2006/resources/lect14/\n",
    "\n",
    "http://ascelibrary.org/doi/book/10.1061/9780784412077"
   ]
  }
 ],
 "metadata": {
  "kernelspec": {
   "display_name": "Python 3",
   "language": "python",
   "name": "python3"
  },
  "language_info": {
   "codemirror_mode": {
    "name": "ipython",
    "version": 3
   },
   "file_extension": ".py",
   "mimetype": "text/x-python",
   "name": "python",
   "nbconvert_exporter": "python",
   "pygments_lexer": "ipython3",
   "version": "3.8.10"
  }
 },
 "nbformat": 4,
 "nbformat_minor": 4
}
