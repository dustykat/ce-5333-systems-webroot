{
 "cells": [
  {
   "cell_type": "markdown",
   "metadata": {},
   "source": [
    "\n",
    "        Management in the Water Industry\t    \n",
    "        Hydrology and the Water Environment. \n",
    "        Water Infrastructure and Systems\t    \n",
    "        Planning and Decision-Making Processes\t    \n",
    "        Systems Analysis, Models, and Decision Support Systems\t    \n",
    "        Water and Environmental Law, Regulation, and Administration\t    \n",
    "        Financial Planning and Management\t    \n",
    "        Water Industry Structure\t    \n",
    "        A Comprehensive Framework for Water Management\t    "
   ]
  },
  {
   "cell_type": "code",
   "execution_count": null,
   "metadata": {},
   "outputs": [],
   "source": []
  }
 ],
 "metadata": {
  "kernelspec": {
   "display_name": "Python 3",
   "language": "python",
   "name": "python3"
  },
  "language_info": {
   "codemirror_mode": {
    "name": "ipython",
    "version": 3
   },
   "file_extension": ".py",
   "mimetype": "text/x-python",
   "name": "python",
   "nbconvert_exporter": "python",
   "pygments_lexer": "ipython3",
   "version": "3.8.10"
  }
 },
 "nbformat": 4,
 "nbformat_minor": 4
}
