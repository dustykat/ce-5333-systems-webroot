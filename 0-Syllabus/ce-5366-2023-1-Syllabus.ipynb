{
 "cells": [
  {
   "cell_type": "code",
   "execution_count": 1,
   "metadata": {
    "jupyter": {
     "source_hidden": true
    }
   },
   "outputs": [
    {
     "name": "stdout",
     "output_type": "stream",
     "text": [
      "ip-172-26-14-247\n",
      "sensei\n",
      "/opt/conda/envs/python/bin/python\n",
      "3.8.3 (default, Jul  2 2020, 16:21:59) \n",
      "[GCC 7.3.0]\n",
      "sys.version_info(major=3, minor=8, micro=3, releaselevel='final', serial=0)\n",
      "Wed Jan  4 11:09:01 CST 2023\n"
     ]
    }
   ],
   "source": [
    "# Script block to identify host, user, and kernel\n",
    "import sys\n",
    "! hostname\n",
    "! whoami\n",
    "print(sys.executable)\n",
    "print(sys.version)\n",
    "print(sys.version_info)\n",
    "! date"
   ]
  },
  {
   "cell_type": "code",
   "execution_count": 2,
   "metadata": {},
   "outputs": [
    {
     "data": {
      "text/html": [
       "<!--Script block to left align Markdown Tables-->\n",
       "<style>\n",
       "  table {margin-left: 0 !important;}\n",
       "</style>\n"
      ],
      "text/plain": [
       "<IPython.core.display.HTML object>"
      ]
     },
     "metadata": {},
     "output_type": "display_data"
    }
   ],
   "source": [
    "%%html\n",
    "<!--Script block to left align Markdown Tables-->\n",
    "<style>\n",
    "  table {margin-left: 0 !important;}\n",
    "</style>"
   ]
  },
  {
   "cell_type": "markdown",
   "metadata": {},
   "source": [
    "# CE 5366 Water Resources Management"
   ]
  },
  {
   "cell_type": "markdown",
   "metadata": {},
   "source": [
    "## Course Description: \n",
    "\n",
    "Practical application of systems analysis and modeling in Water Resources context. Focus on model formulation, planning and design issues. System integration of on-line simulation tools is demonstrated.\n",
    "\n",
    "\n",
    "## Catalog Description\n",
    "\n",
    "CE 5366: Water Resources Management (3:3:0). Models and other technical elements of water resources systems in context of the political, social, and other environments in which they exist.\n",
    "\n",
    "## Prerequisites: \n",
    "\n",
    "Pulse, money, and be a graduate student.\n",
    "\n",
    "## Course Sections (in this syllabus)\n",
    "Lesson time, days, and location: \n",
    "\n",
    "1. Section 001; CRN XXXXX; 1000-1250 F ; CE 009 \n",
    "\n",
    "## Course Instructor:\n",
    "\n",
    "Instructor: Theodore G. Cleveland, Ph.D., P.E., M. ASCE, F. EWRI\n",
    "\n",
    "Email: theodore.cleveland@ttu.edu  (Put CE 5366 WRM into the subject line)\n",
    "\n",
    "Office location: 203F or Telepresence (Zoom/Teams)\n",
    "\n",
    "Office hours: TBD\n",
    "\n",
    "## Teaching assistants:\n",
    "\n",
    "Assistant: Not Authorized\n",
    "\n",
    "Email : NA\n",
    "\n",
    "Office location: NA\n",
    "\n",
    "Office hours: NA"
   ]
  },
  {
   "cell_type": "markdown",
   "metadata": {},
   "source": [
    "## Textbook(s): \n",
    "\n",
    "1. [WATER RESOURCES SYSTEMS PLANNING AND MANAGEMENT – ISBN 92-3-103998-9 – © UNESCO 2005](http://54.243.252.9/ce-5333-systems-webroot/3-Readings/WaterResourcesSystemsPlanningManagement/WaterResourcesText.pdf) <br>**You can buy this book from Blackboard (Follett gets your money, TTU gets a brokering fee), or just search the internet for the UNESCO supplied (free) copy**\n",
    "2. [Cleveland, T.G., 2022. *CE-5366 Water Resources Management* Instructor's notes to accompany CE 5366 (a Jupyter{Book})](http://54.243.252.9/ce-5333-systems-webroot/ce5366notes/_build/html/intro.html)\n",
    "3. Other resources distributed as URLs on the course distribution server, and/or Blackboard.\n"
   ]
  },
  {
   "cell_type": "markdown",
   "metadata": {},
   "source": [
    "## Course Schedule \n",
    "\n",
    "| Item | Lesson | Readings | Homework |\n",
    "|:---|:---|:------|:---|\n",
    "|13JAN23|0. Introduction <br> - Water Resources Management Concepts <br> - Sustainable Use of Water Resources <br> - Coping With Uncertainty <br> - Decision Making| - [WRSPM pp. 3-39](http://54.243.252.9/ce-5333-systems-webroot/3-Readings/WaterResourcesSystemsPlanningManagement/WaterResourcesText.pdf)|[ES-1](http://54.243.252.9/ce-5333-systems-webroot/2-Exercises/ES-1/ce5366-es1.pdf) <br> - check BB for due date|\n",
    "|20JAN23|1. Economics as Decision Support Structure <br> - Valuation of Alternatives <br> - Benefit/Cost Analysis <br> - Price Theory Resource Allocation <br> - Economic Optimality <br> - Welfare Economics | - [WRSPM pp. 293-308](http://54.243.252.9/ce-5333-systems-webroot/3-Readings/WaterResourcesSystemsPlanningManagement/WaterResourcesText.pdf) <br> - [Economics of Water Resources Planning \"... Price Theory ...\"](http://54.243.252.9/ce-5333-systems-webroot/3-Readings/scraps/Chapter1_2_3.pdf) <br> - [Economics of Water Resources Planning \"Project Optimality\"](http://54.243.252.9/ce-5333-systems-webroot/3-Readings/scraps/JamesAndLee-Chapter4.pdf) <br> - [Economics of Water Resources Planning \"Welfare Economics\"](http://54.243.252.9/ce-5333-systems-webroot/3-Readings/scraps/JamesAndLee-Chapter5.pdf) <br> - [Economics of Water Resources Planning \"Discount Rate\"](http://54.243.252.9/ce-5333-systems-webroot/3-Readings/scraps/JamesAndLee-Chapter6.pdf)|[ES-2](http://54.243.252.9/ce-5333-systems-webroot/2-Exercises/ES-2/ce5366-es2.pdf) <br> - check BB for due date|\n",
    "|27JAN23|2. Simulation Modeling for Decision Support <br> - Hydraulic Models <br> - Quality Models <br> - Cost Models <br> - Systems Integration| - [WRSPM pp. 39-55](http://54.243.252.9/ce-5333-systems-webroot/3-Readings/WaterResourcesSystemsPlanningManagement/WaterResourcesText.pdf) <br> - [Loucks, Stedenger, Haith (1981) Water Resources Systems Planning and Analysis p. 8](http://54.243.252.9/ce-5333-systems-webroot/3-Readings/SystemsCharacteristics/SystemsCharacteristics1.pdf) <br> - [Loucks, Stedenger, Haith (1981) Water Resources Systems Planning and Analysis p. 9](http://54.243.252.9/ce-5333-systems-webroot/3-Readings/SystemsCharacteristics/SystemsCharacteristics2.pdf)|[ES-3](http://54.243.252.9/ce-5333-systems-webroot/2-Exercises/ES-3/ce5366-es3.pdf) <br> - check BB for due date|\n",
    "|25JAN23|3. Optimization Modeling for Decision Support <br> - Policy Variables <br> - Merit (Objective) Functions <br> - Feasibility <br> - Methods| [WRSPM pp. 39-55](http://54.243.252.9/ce-5333-systems-webroot/3-Readings/WaterResourcesSystemsPlanningManagement/WaterResourcesText.pdf) <br> - link <br> - link |[PR-1](http://54.243.252.9/ce-5333-systems-webroot/2-Exercises/PR-1/) <br> - check BB for due date|\n",
    "|03FEB23|4. Optimization by Linear Programming <br> - Concepts <br> - iPython methods <br> - Integer programs|  - [LP-Ossenbruggen](http://54.243.252.9/ce-5333-systems-webroot/3-Readings/LP-Ossenbruggen/LP-Ossenbruggen.pdf)<br> - [Modeling and Solving LP with R](http://54.243.252.9/ce-5333-systems-webroot/3-Readings/ModelingAndSolvingLPwithR/20-73-3-PB.pdf)<br>- [LP and Optimization (blog post)](https://towardsdatascience.com/linear-programming-using-python-priyansh-22b5ee888fe0) <br>- [introduction to LP (blog post)](https://mlabonne.github.io/blog/linearoptimization/)||\n",
    "|10FEB23|5. Optimization by Non-Linear Programming <br> - Gradients <br> - Hessians <br> - | - [NLP with Python](https://apmonitor.com/pdc/index.php/Main/NonlinearProgramming) <br> - [NLP in R (CRAN documentation)](https://cran.r-project.org/web/packages/nloptr/nloptr.pdf) <br> - [NLP in R (Univ. Freiburg)](https://www.is.uni-freiburg.de/resources/computational-economics/5_OptimizationR.pdf) <br> - [NLP in R (a dissertation)](https://getd.libs.uga.edu/pdfs/chen_xianyan_201608_phd.pdf)| |\n",
    "|17FEB23|<font color=\"green\">No Meeting (Job Fair Week)</font>|||\n",
    "|24FEB23|6. Water Supply Allocation <br> - Groundwater Simulation/Optimization by LP <br> - Allocation Example |- [WRM Notebook (pp. 44-47)](http://54.243.252.9/ce-5333-systems-webroot/3-Readings/WRM-Notebook/WRM-Notebook.pdf) <br>- [Bear (1979) Hydraulics of Groundwater (Chapter 10)](http://54.243.252.9/ce-5333-systems-webroot/3-Readings/BearChapter10/BearChapter10.pdf) <br>- [Bear (1979) Hydraulics of Groundwater (Chapter 12)](http://54.243.252.9/ce-5333-systems-webroot/3-Readings/BearChapter12/BearChapter12.pdf) <br> ||\n",
    "|03MAR23|7. Water Supply Allocation <br> - Uncertainty <br> - Stochastic Programming <br> - Multi-Stage Allocation (Conditioning)| Ch. 4 <br> - pp. 125-137 <br> -subtopic 2||\n",
    "|10MAR23|8. Water Supply Allocation <br> - Uncertainty <br> - Chance Constraints| Ch. 4 <br> - pp. 125-137 <br> -subtopic 2||\n",
    "|17MAR23|<font color=\"green\">No meeting (Spring Break)</font> ||\n",
    "|24MAR23|9. Interbasin Transfer Feasibility Study <br> - Alignment(s) <br> - Lift Hydraulics <br> - Storage/Treatment Locations <br> - Water Supply Flow-Duration ||\n",
    "|31MAR23|10. Water Quality Allocation <br> - Design of a Reactor System <br> - Steady Flow| Ch. 5 <br> - 3.5-3.6 <br> -subtopic 2|ES-2 (upload solution to BB)|\n",
    "|07APR23|11. Water Quality Simulation  <br> - DO in a river <br> - QUAL2E Model| Ch. 5 <br> - 4.1-4.5 <br> -subtopic 2 ||\n",
    "|14APR23|12. Water Quality Allocation  <br> - QUAL2E Simulation to construct feasibility space <br> - Optimization to select non-inferior allocation| Ch. 5 <br> - 4.1-4.5 <br> -subtopic 2 ||\n",
    "|21APR23|13. Interbasin Transfer Feasibility Study <br> - Energy Requirements <br> - Hydraulics <br> - Wind Energy Supply Flow-Duration||\n",
    "|28APR23|14. Interbasin Transfer Feasibility Study <br> - Integrated Hydraulics-Availability-Energy-Cost Model ||\n",
    "|08MAY23|15. Final Project Due<br> -   <br> - | <br> - subtopic1 <br> -subtopic 2||"
   ]
  },
  {
   "cell_type": "markdown",
   "metadata": {},
   "source": [
    "## Learning Outcomes: \n",
    "On completion of the course, students will be able to:\n",
    "1. Construct solution tools using suitable programming environments as computation engines and as interfaces for small-scale linear and non-linear programming problems.\n",
    "2. Locate and use solution tools for large-scale linear and non-linear programming problems.\n",
    "3. Formulate integrated simulation and optimization models for improved decision making and analysis in water resources management\n",
    "4. Quantify risks and uncertainties in planning, design, and management objective(s) in water resources systems.\n",
    "5. Evaluate alternatives in water resources management with respect to economic, environmental, ecological, regulatory, and social aspects.\n",
    "6. Describe the large scale complex interactions between engineered infrastructure and natural systems and the issues associated with holistic decision-making.\n",
    "\n"
   ]
  },
  {
   "cell_type": "code",
   "execution_count": null,
   "metadata": {},
   "outputs": [],
   "source": []
  },
  {
   "cell_type": "markdown",
   "metadata": {},
   "source": [
    "## ABET Student Outcomes\n",
    "\n",
    "**Although not strictly required for a graduate class, these are listed for ENVR students who are uysing this course as an elective**\n",
    "* General Engineering:\n",
    "\n",
    "|ABET Outcome|Assessment|\n",
    "|:---|:---|\n",
    "|(1) an ability to identify, formulate, and solve complex engineering problems by applying principles of engineering, science, and mathematics|application of economics, decision making, and computer modeling of water resources systems; application of optimization models|\n",
    "|(2) an ability to apply engineering design to produce solutions that meet specified needs with consideration of public health, safety, and welfare, as well as global, cultural, social, environmental, and economic factors|design of a long-distance water delivery with the constraints of minimizing stream crossings (and takings) and optimization of capital and lift costs|\n",
    "|(7) an ability to acquire and apply new knowledge as needed, using appropriate learning strategies| Jupyter/iPython for Linear and Non-Linear optimization, integration of legacy tools (MODFLOW, QUAL2E, SWMM, EPANET) with optimization tools|\n",
    "\n",
    "* Civil Engineering Program Criteria:\n",
    "\n",
    "|ABET Outcome|Assessment|\n",
    "|:---|:---|\n",
    "|(v) proficiency in water resources engineering|application of hydraulics and simulation modeling|\n",
    "|(vii) design a system, component, or process in more than one civil engineering context|design of a long-distance water delivery system|\n",
    "    \n",
    "* Environmental Engineering Program Criteria:\n",
    "\n",
    "|ABET Outcome|Assessment|\n",
    "|:---|:---|\n",
    "|(ii) introductory level knowledge of environmental issues associated with air, land, and water systems and associated environmental health impact| issues of water quantity and quality associated with water resources systems|\n",
    "|(iv) an ability to perform engineering design by means of design experiences integrated throughout the professional component of the curriculum |design of a long-distance water delivery with the constraints of minimizing stream crossings (and takings) and optimization of capital and lift costs|\n"
   ]
  },
  {
   "cell_type": "markdown",
   "metadata": {},
   "source": [
    "### Platforms for Python Programming (for your own laptop computers)\n",
    "1. Anaconda platform (https://www.anaconda.com/): Anaconda distribution is an open-source Data Science Distribution Development Platform.  It includes Python 3 with over 1,500 data science packages making it easy to manage libraries and dependencies.  Available in Linux, Windows, and Mac OS X.  \n",
    "2. Jupyter (https://jupyter.org/): JupyterLab is a web-based interactive development environment for Jupyter notebooks, code, and data. JupyterLab is flexible: Configure and arrange the user interface to support a wide range of workflows in data science, scientific computing, and machine learning. `note` Anaconda for MacOS includes a JupyterLab instance, so a separate install is not required.\n",
    "\n",
    "### Additional Modules that are needed\n",
    "3. Math module (https://docs.python.org/3/library/math.html): Gives access to the mathematical functions defined by the C standard e.g. factorial, gcd, exponential, logarithm. \n",
    "4. GPIO module ():\n",
    "\n",
    "In fact this syllabus was created using a JupyterLab notebook (as a markdown processor). \n",
    "\n",
    "A good place to start is [Gohere](https://www.w3schools.com/r/r_get_started.asp)"
   ]
  },
  {
   "cell_type": "markdown",
   "metadata": {
    "tags": []
   },
   "source": [
    "## Course Assessment and Grading Criteria:\n",
    "There will be three midterm exams and one comprehensive final project for the course.  \n",
    "In addition, lab participation, quizzes, and assignments also contribute to the final grade.  \n",
    "<strong>Late</strong> assignments will not be scored.  \n",
    "\n",
    "Grades will be based on the following components; weighting is approximate:\n",
    "\n",
    "|Assessment Instrument|Total points|Weight(%)|\n",
    "|---|---:|---:|\n",
    "|Participation|100|20|\n",
    "|Homework|200|40|\n",
    "|Trans-Texas Supply Feasibility Project|100|20|\n",
    "|Exams|100|20|\n",
    "|Overall total|500|100|\n",
    "\n",
    "Letter grades will be assigned using the following proportions:\n",
    "\n",
    "|Normalized Score Range|Letter Grade|\n",
    "|:-|---:|\n",
    "|≥ 90|A|\n",
    "|80-89|B|\n",
    "|70-79|C|\n",
    "|55-69|D|\n",
    "|< 55|F|\n",
    "\n",
    "\n"
   ]
  },
  {
   "cell_type": "markdown",
   "metadata": {},
   "source": [
    "## Classroom Policy:\n",
    "The following activities are not allowed in the classroom: Texting or talking on the cellphone or other electronic devices, and reading non-course related materials.\n",
    "### Telepresence (On-line) Courses\n",
    "Obviously electronic devices are vital; disrupting the webinar is prohibited, please mute your microphone unless you have a question - consider typing your question into the chat window as well. \n"
   ]
  },
  {
   "cell_type": "markdown",
   "metadata": {},
   "source": [
    "## ADA Statement: \n",
    "Any student who, because of a disability, may require special arrangements in order to meet the course requirements should contact the instructor as soon as possible to make necessary arrangements.  Students must present appropriate verification from Student Disability Services during the instructor's office hours.  Please note that instructors are not allowed to provide classroom accommodation to a student until appropriate verification from Student Disability Services has been provided.  For additional information, please contact Student Disability Services \n",
    "office in 335 West Hall or call 806.742.2405.\n",
    "\n",
    "## Academic Integrity Statement:\n",
    "Academic integrity is taking responsibility for one’s own class and/or course work, being individually accountable, and demonstrating intellectual honesty and ethical behavior.  Academic integrity is a personal choice to abide by the standards of intellectual honesty and responsibility.  Because education is a shared effort to achieve learning through the exchange of ideas, students, faculty, and staff have the collective responsibility to build mutual trust and respect.  Ethical behavior and independent thought are essential for the highest level of academic achievement, which then must be measured.  Academic achievement includes scholarship, teaching, and learning, all of which are shared endeavors.  Grades are a device used to quantify the successful accumulation of knowledge through learning.  Adhering to the standards of academic integrity ensures grades are earned honestly.  Academic integrity is the foundation upon which students, faculty, and staff build their educational and professional careers.  [Texas Tech University (“University”) Quality Enhancement Plan, Academic Integrity Task Force, 2010].\n",
    "\n",
    "## Religious Holy Day Statement: \n",
    "“Religious holy day” means a holy day observed by a religion whose places of worship are exempt from property taxation under Texas Tax Code §11.20.  A student who intends to observe a religious holy day should make that intention known to the instructor prior to the absence.  A student who is absent from classes for the observance of a religious holy day shall be allowed to take an examination or complete an assignment scheduled for that day within a reasonable time after the absence.  A student who is excused may not be penalized for the absence; however, the instructor may respond appropriately if the student fails to complete the assignment satisfactorily.\n",
    "\n",
    "## Ethical Conduct Policy:\n",
    "Cheating is prohibited, and the representation of the work of another person as your own will be grounds for receiving a failing grade in the course.\n"
   ]
  },
  {
   "cell_type": "markdown",
   "metadata": {},
   "source": []
  }
 ],
 "metadata": {
  "kernelspec": {
   "display_name": "Python 3",
   "language": "python",
   "name": "python3"
  },
  "language_info": {
   "codemirror_mode": {
    "name": "ipython",
    "version": 3
   },
   "file_extension": ".py",
   "mimetype": "text/x-python",
   "name": "python",
   "nbconvert_exporter": "python",
   "pygments_lexer": "ipython3",
   "version": "3.8.10"
  }
 },
 "nbformat": 4,
 "nbformat_minor": 4
}
